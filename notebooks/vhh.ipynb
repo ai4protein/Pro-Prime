{
 "cells": [
  {
   "cell_type": "markdown",
   "metadata": {},
   "source": [
    "# Zero-shot mutant prediction For VHH"
   ]
  },
  {
   "cell_type": "code",
   "execution_count": 2,
   "metadata": {},
   "outputs": [],
   "source": [
    "from transformers import AutoTokenizer, AutoModelForMaskedLM\n",
    "import torch\n",
    "import pandas as pd\n",
    "from Bio import SeqIO\n",
    "from tqdm.notebook import tqdm\n",
    "import warnings\n",
    "warnings.filterwarnings(\"ignore\")\n",
    "import os\n",
    "os.environ[\"http_proxy\"] = \"http://l0:7890\"\n",
    "os.environ[\"https_proxy\"] = \"http://l0:7890\"\n",
    "\n",
    "def read_seq(seq_file):\n",
    "    for record in SeqIO.parse(seq_file, \"fasta\"):\n",
    "        return str(record.seq)\n",
    "\n",
    "wild_type = f\"../example_data/expr/vhh.fasta\"\n",
    "sequence = read_seq(wild_type)\n",
    "\n",
    "all_mutants = []\n",
    "for i, wt in enumerate(sequence):\n",
    "    for aa in \"ACDEFGHIKLMNPQRSTVWY\":\n",
    "        if aa != wt:\n",
    "            mutant = f\"{wt}{i+1}{aa}\"\n",
    "            all_mutants.append(mutant)\n",
    "df = pd.DataFrame({\"mutant\": all_mutants})"
   ]
  },
  {
   "cell_type": "code",
   "execution_count": 3,
   "metadata": {},
   "outputs": [
    {
     "data": {
      "application/vnd.jupyter.widget-view+json": {
       "model_id": "b0223d4f2ee34094b1911180423a08b7",
       "version_major": 2,
       "version_minor": 0
      },
      "text/plain": [
       "  0%|          | 0/2698 [00:00<?, ?it/s]"
      ]
     },
     "metadata": {},
     "output_type": "display_data"
    },
    {
     "name": "stdout",
     "output_type": "stream",
     "text": [
      "Model 0 done\n"
     ]
    },
    {
     "data": {
      "application/vnd.jupyter.widget-view+json": {
       "model_id": "031ad1856a1f464f9b5410407843eb34",
       "version_major": 2,
       "version_minor": 0
      },
      "text/plain": [
       "  0%|          | 0/2698 [00:00<?, ?it/s]"
      ]
     },
     "metadata": {},
     "output_type": "display_data"
    },
    {
     "name": "stdout",
     "output_type": "stream",
     "text": [
      "Model 1 done\n"
     ]
    },
    {
     "data": {
      "application/vnd.jupyter.widget-view+json": {
       "model_id": "2f8d64683fcb49d8a1100020913ddc43",
       "version_major": 2,
       "version_minor": 0
      },
      "text/plain": [
       "  0%|          | 0/2698 [00:00<?, ?it/s]"
      ]
     },
     "metadata": {},
     "output_type": "display_data"
    },
    {
     "name": "stdout",
     "output_type": "stream",
     "text": [
      "Model 2 done\n"
     ]
    },
    {
     "data": {
      "application/vnd.jupyter.widget-view+json": {
       "model_id": "d50c2764ed7e49ab807cb1fcfee953b5",
       "version_major": 2,
       "version_minor": 0
      },
      "text/plain": [
       "  0%|          | 0/2698 [00:00<?, ?it/s]"
      ]
     },
     "metadata": {},
     "output_type": "display_data"
    },
    {
     "name": "stdout",
     "output_type": "stream",
     "text": [
      "Model 3 done\n"
     ]
    },
    {
     "data": {
      "application/vnd.jupyter.widget-view+json": {
       "model_id": "e424c53e9f634e17ab97f709715b4963",
       "version_major": 2,
       "version_minor": 0
      },
      "text/plain": [
       "  0%|          | 0/2698 [00:00<?, ?it/s]"
      ]
     },
     "metadata": {},
     "output_type": "display_data"
    },
    {
     "name": "stdout",
     "output_type": "stream",
     "text": [
      "Model 4 done\n"
     ]
    }
   ],
   "source": [
    "base_model_path = \"AI4Protein/vhh_model_\"\n",
    "\n",
    "for i in range(0, 5):\n",
    "    model_path = f\"{base_model_path}{i}\"\n",
    "    device = torch.device(\"cuda\" if torch.cuda.is_available() else \"cpu\")\n",
    "    model = AutoModelForMaskedLM.from_pretrained(model_path, trust_remote_code=True)\n",
    "    tokenizer = AutoTokenizer.from_pretrained(\"AI4Protein/Prime_690M\", trust_remote_code=True)\n",
    "    model.eval()\n",
    "    model = model.to(device)\n",
    "\n",
    "    tokenized = tokenizer(sequence, return_tensors=\"pt\").to(device)\n",
    "    input_ids = tokenized[\"input_ids\"]\n",
    "    attention_mask = tokenized[\"attention_mask\"]\n",
    "\n",
    "    with torch.no_grad():\n",
    "        output = model(input_ids, attention_mask=attention_mask)\n",
    "        logits = output.logits[0, 1:-1, :].log_softmax(dim=-1)\n",
    "    \n",
    "    scores = []\n",
    "    for mutant in tqdm(df[\"mutant\"]):\n",
    "        score = 0\n",
    "        for sub_mutant in mutant.split(\":\"):\n",
    "            wt, idx, mt = sub_mutant[0], int(sub_mutant[1:-1]) - 1, sub_mutant[-1]\n",
    "            score += (logits[idx, tokenizer.get_vocab()[mt]] - logits[idx, tokenizer.get_vocab()[wt]]).item()\n",
    "        scores.append(score)\n",
    "    df[f\"model_{i}\"] = scores\n",
    "    print(f\"Model {i} done\")"
   ]
  },
  {
   "cell_type": "code",
   "execution_count": 5,
   "metadata": {},
   "outputs": [],
   "source": [
    "aggregate_score = 0\n",
    "for i in range(0, 5):\n",
    "    # min-max\n",
    "    df[f\"model_{i}\"] = (df[f\"model_{i}\"] - df[f\"model_{i}\"].min()) / (df[f\"model_{i}\"].max() - df[f\"model_{i}\"].min())\n",
    "    aggregate_score += df[f\"model_{i}\"]\n",
    "df[\"aggregate\"] = aggregate_score\n",
    "df = df.sort_values(\"aggregate\", ascending=False)"
   ]
  },
  {
   "cell_type": "code",
   "execution_count": null,
   "metadata": {},
   "outputs": [],
   "source": [
    "df"
   ]
  }
 ],
 "metadata": {
  "kernelspec": {
   "display_name": "torch2",
   "language": "python",
   "name": "python3"
  },
  "language_info": {
   "codemirror_mode": {
    "name": "ipython",
    "version": 3
   },
   "file_extension": ".py",
   "mimetype": "text/x-python",
   "name": "python",
   "nbconvert_exporter": "python",
   "pygments_lexer": "ipython3",
   "version": "3.10.14"
  }
 },
 "nbformat": 4,
 "nbformat_minor": 2
}
